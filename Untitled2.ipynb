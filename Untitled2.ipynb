{
  "nbformat": 4,
  "nbformat_minor": 0,
  "metadata": {
    "colab": {
      "provenance": [],
      "authorship_tag": "ABX9TyOEDwrNlQhW9tP8UxSk+k0S",
      "include_colab_link": true
    },
    "kernelspec": {
      "name": "python3",
      "display_name": "Python 3"
    },
    "language_info": {
      "name": "python"
    }
  },
  "cells": [
    {
      "cell_type": "markdown",
      "metadata": {
        "id": "view-in-github",
        "colab_type": "text"
      },
      "source": [
        "<a href=\"https://colab.research.google.com/github/Pilipchak/exam_160124/blob/main/Untitled2.ipynb\" target=\"_parent\"><img src=\"https://colab.research.google.com/assets/colab-badge.svg\" alt=\"Open In Colab\"/></a>"
      ]
    },
    {
      "cell_type": "code",
      "execution_count": 8,
      "metadata": {
        "colab": {
          "base_uri": "https://localhost:8080/"
        },
        "id": "eeh23iHjL7Di",
        "outputId": "3b6d28b0-0041-4ebe-d17f-bd6803a775d2"
      },
      "outputs": [
        {
          "output_type": "stream",
          "name": "stdout",
          "text": [
            "2\n",
            "-4\n",
            "0\n",
            "0\n",
            "1\n",
            "[0. 1.]\n"
          ]
        }
      ],
      "source": [
        "import numpy as np\n",
        "n = int(input())\n",
        "d = []\n",
        "for j in range(1, n+1):\n",
        "  s = []\n",
        "  for i in range(1, n+1):\n",
        "    a = int(input())\n",
        "    s.append(a)\n",
        "  d.append(s)\n",
        "A = np.array(d)\n",
        "w, v = np.linalg.eig(A)\n",
        "max = w[0]\n",
        "for r in range(0, n):\n",
        "  if w[r] <= max:\n",
        "    max = max\n",
        "  else:\n",
        "    max = w[r]\n",
        "    k = r\n",
        "f = []\n",
        "for e in range(0, k):\n",
        "  f.append(w[e])\n",
        "for e in range(k+1, n):\n",
        "  f.append(w[e])\n",
        "max1 = f[0]\n",
        "for r in range(0, n-1):\n",
        "  if f[r] <= max1:\n",
        "    max1 = max1\n",
        "  else:\n",
        "    max1 = f[r]\n",
        "for t in range(0, n):\n",
        "  if w[t] == max1:\n",
        "    index = t\n",
        "print(v[t])\n",
        "\n"
      ]
    },
    {
      "cell_type": "code",
      "source": [],
      "metadata": {
        "id": "7lCq_0_gYDPM"
      },
      "execution_count": null,
      "outputs": []
    },
    {
      "cell_type": "code",
      "source": [],
      "metadata": {
        "id": "UYTFvPxkMaID"
      },
      "execution_count": null,
      "outputs": []
    }
  ]
}